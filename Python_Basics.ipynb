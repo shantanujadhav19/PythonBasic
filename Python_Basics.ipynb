{
  "nbformat": 4,
  "nbformat_minor": 0,
  "metadata": {
    "colab": {
      "provenance": []
    },
    "kernelspec": {
      "name": "python3",
      "display_name": "Python 3"
    },
    "language_info": {
      "name": "python"
    }
  },
  "cells": [
    {
      "cell_type": "markdown",
      "source": [
        "# **ANSWERS TO THEORETICAL QUESTIONS**\n",
        "\n",
        "---\n",
        "\n",
        "\n",
        "### 1. What is Python, and why is it popular?\n",
        "  \n",
        "  - Python is a high-level, interpreted programming language known for its simplicity and readability. It is popular because of its clean syntax, large standard library, cross-platform compatibility, and vibrant community. It supports multiple programming paradigms, including procedural, object-oriented, and functional programming.\n",
        "  \n",
        "### 2. What is an interpreter in Python?\n",
        "  - An interpreter in Python is a program that reads and executes Python code line by line. It translates high-level Python code into machine code during runtime, which allows for dynamic execution and immediate feedback.\n",
        "\n",
        "### 3. What are pre-defined keywords in Python?\n",
        " - Pre-defined keywords in Python are reserved words that have special meanings and functionalities. Examples include if, else, for, while, def, class, try, and import. These keywords cannot be used as identifiers (variable names, function names, etc.).\n",
        "\n",
        "### 4. Can keywords be used as variable names?\n",
        " - No, keywords cannot be used as variable names because they are reserved by the Python language to perform specific functions. Using them would result in a syntax error.\n",
        "\n",
        "### 5. What is mutability in Python?\n",
        "  - Mutability refers to whether or not an object can be changed after it is created. A mutable object, such as a list or dictionary, can be modified. An immutable object, like a tuple or string, cannot be changed once it is created.\n",
        "\n",
        "### 6. Why are lists mutable, but tuples are immutable?\n",
        "  - Lists are mutable by design to allow dynamic modifications such as appending, removing, or changing elements. Tuples are immutable to ensure data integrity and allow them to be used as dictionary keys or elements of sets, which require immutability.\n",
        "\n",
        "### 7. What is the difference between \"==\" and \"is\" operators in Python?\n",
        "  - == checks for value equality whether the values of two objects are the same.\n",
        "  - is checks for identity equality whether two references point to the same Object in memory.\n",
        "\n",
        "### 8. What are logical operators in Python?\n",
        "- Logical operators are used to combine Boolean expressions:\n",
        "  - and: Returns True if both statements are true.\n",
        "  - or: Returns True if at least one statement is true.\n",
        "  - not: Reverses the boolean value of an expression.\n",
        "\n",
        "### 9. What is type casting in Python?\n",
        "  - Type casting is the process of converting one data type into another. it can be done implicitly by the interpreter or explicitly using functions like int( ), float( ), str( ), etc.\n",
        "\n",
        "### 10. What is the difference between implicit and explicit type casting?\n",
        "  - Implicit casting is automatically performed by Python when converting a smaller data type to a larger one (e.g., int to float).\n",
        "  - Explicit casting is done manually using casting functions (e.g., float(5) to convert an integer to a float).\n",
        "  - Implicit casting is safer for the interpreter but may lead to precision loss in some cases, such as when converting an int to a float.\n",
        "  - Explicit casting gives the programmer full control but requires careful handling to avoid errors like ValueError (e.g., casting a non-numeric string to an integer).\n",
        "\n",
        "### 11. What is the purpose of conditional statements in Python?\n",
        "  - Conditional statements control the flow of execution based on certain conditions. They allow the program to make decisions and execute different blocks of code depending on whether a condition is True or False.\n",
        "\n",
        "### 12. How does the elif statement work?\n",
        "  - The elif statement stands for \"else if.\" It is used to check multiple conditions. If the first if condition is false, Python checks the elif conditions in order. The first True condition's block is executed, and the rest are ignored.\n",
        "\n",
        "### 13. What is the difference between for and while loops?\n",
        "  - A for loop is used when the number of iterations is known. It iterates over a sequence like a list, tuple, or range.\n",
        "  - A while loop is used when the number of iterations is not known in advance and depends on a condition being true.\n",
        "  - For loops are generally preferred for iterating through collections and sequences, making the code more concise and readable.\n",
        "  - While loops are better suited for indefinite repetition, such as waiting for a sensor input, a user action, or an event to occur.\n",
        "\n",
        "### 14. Describe a scenario where a while loop is more suitable than a for loop.\n",
        "  - A while loop is more suitable in situations where you need to loop until a certain condition is met but you don’t know in advance how many iterations it will take. For example, reading input from a user until they enter a valid password.\n",
        "\n",
        "\n",
        "---\n",
        "\n"
      ],
      "metadata": {
        "id": "CgZNsbuqMCIW"
      }
    },
    {
      "cell_type": "markdown",
      "source": [
        "# **PRACTICAL QUESTIONS**"
      ],
      "metadata": {
        "id": "0-yiM0KeoQeB"
      }
    },
    {
      "cell_type": "markdown",
      "source": [
        "### 1. Write a Python program to print \"Hello, World!\"\n"
      ],
      "metadata": {
        "id": "btDAc4ABpn4J"
      }
    },
    {
      "cell_type": "code",
      "execution_count": null,
      "metadata": {
        "id": "CbSUSUfAL3I3",
        "colab": {
          "base_uri": "https://localhost:8080/"
        },
        "outputId": "edb8a576-7fad-43c1-a3aa-bec50afe5a6d"
      },
      "outputs": [
        {
          "output_type": "stream",
          "name": "stdout",
          "text": [
            "Hello, World!\n"
          ]
        }
      ],
      "source": [
        "print(\"Hello, World!\")"
      ]
    },
    {
      "cell_type": "markdown",
      "source": [
        "### 2. Write a Python program that displays your name and age."
      ],
      "metadata": {
        "id": "53x-mJf3qVZq"
      }
    },
    {
      "cell_type": "code",
      "source": [
        "name = \"Shantanu Jadhav\"\n",
        "age = 20\n",
        "print(\"Name:\", name)\n",
        "print(\"Age:\", age)"
      ],
      "metadata": {
        "colab": {
          "base_uri": "https://localhost:8080/"
        },
        "id": "zsAJu7MaqMlZ",
        "outputId": "d297025a-6ce6-4e9a-c9f4-c827d74c8fed"
      },
      "execution_count": null,
      "outputs": [
        {
          "output_type": "stream",
          "name": "stdout",
          "text": [
            "Name: Shantanu Jadhav\n",
            "Age: 20\n"
          ]
        }
      ]
    },
    {
      "cell_type": "markdown",
      "source": [
        "### 3. Write code to print all the pre-defined keywords in Python using the     keyword library"
      ],
      "metadata": {
        "id": "LYVYpnxdqoqQ"
      }
    },
    {
      "cell_type": "code",
      "source": [
        "import keyword\n",
        "print(keyword.kwlist)"
      ],
      "metadata": {
        "colab": {
          "base_uri": "https://localhost:8080/"
        },
        "id": "FS4O_vA9qm4m",
        "outputId": "4fc95936-f3c8-4026-bad1-d9f4a991cc16"
      },
      "execution_count": null,
      "outputs": [
        {
          "output_type": "stream",
          "name": "stdout",
          "text": [
            "['False', 'None', 'True', 'and', 'as', 'assert', 'async', 'await', 'break', 'class', 'continue', 'def', 'del', 'elif', 'else', 'except', 'finally', 'for', 'from', 'global', 'if', 'import', 'in', 'is', 'lambda', 'nonlocal', 'not', 'or', 'pass', 'raise', 'return', 'try', 'while', 'with', 'yield']\n"
          ]
        }
      ]
    },
    {
      "cell_type": "markdown",
      "source": [
        "### 4.  Write a program that checks if a given word is a Python keyword.\n"
      ],
      "metadata": {
        "id": "CkxvMceKqpUm"
      }
    },
    {
      "cell_type": "code",
      "source": [
        "import keyword\n",
        "\n",
        "word = input(\"Enter a word: \")\n",
        "if keyword.iskeyword(word):\n",
        "    print(f\"{word} is a Python keyword.\")\n",
        "else:\n",
        "    print(f\"{word} is not a Python keyword.\")"
      ],
      "metadata": {
        "colab": {
          "base_uri": "https://localhost:8080/"
        },
        "id": "9jQ-9KVtqmxS",
        "outputId": "49c8c994-f1c4-4f10-d3a3-d9cddfef5030"
      },
      "execution_count": null,
      "outputs": [
        {
          "output_type": "stream",
          "name": "stdout",
          "text": [
            "Enter a word: loops\n",
            "loops is not a Python keyword.\n"
          ]
        }
      ]
    },
    {
      "cell_type": "markdown",
      "source": [
        "### 5. Create a list and tuple in Python, and demonstrate how attempting to change an element works differently for each."
      ],
      "metadata": {
        "id": "SCoJQfT8qpyC"
      }
    },
    {
      "cell_type": "code",
      "source": [
        "# List (can be changed)\n",
        "my_list = [1, 2, 3]\n",
        "my_list[0] = 100\n",
        "print(\"List:\", my_list)\n",
        "# Tuple (cannot be changed)\n",
        "my_tuple = (1, 2, 3)\n",
        "# This line will give an error if you try to change it:\n",
        "# my_tuple[0] = 100\n",
        "print(\"Tuple:\", my_tuple)"
      ],
      "metadata": {
        "colab": {
          "base_uri": "https://localhost:8080/"
        },
        "id": "HlBeslrdqmpo",
        "outputId": "9541a1b0-1a4c-49d6-b444-c12a4c7ddf21"
      },
      "execution_count": null,
      "outputs": [
        {
          "output_type": "stream",
          "name": "stdout",
          "text": [
            "List: [100, 2, 3]\n",
            "Tuple: (1, 2, 3)\n"
          ]
        }
      ]
    },
    {
      "cell_type": "markdown",
      "source": [
        "### 6. Write a function to demonstrate the behavior of mutable and immutable arguments."
      ],
      "metadata": {
        "id": "svh49lVjqqJz"
      }
    },
    {
      "cell_type": "code",
      "source": [
        "# Mutable (list)\n",
        "def change_list(lst):\n",
        "    lst.append(10)\n",
        "\n",
        "# Immutable (number)\n",
        "def change_number(n):\n",
        "    n += 5\n",
        "    return n\n",
        "\n",
        "a = [1, 2]\n",
        "b = 10\n",
        "\n",
        "change_list(a)\n",
        "b = change_number(b)\n",
        "\n",
        "print(\"List after change:\", a)\n",
        "print(\"Number after change:\", b)\n"
      ],
      "metadata": {
        "colab": {
          "base_uri": "https://localhost:8080/"
        },
        "id": "UNb70ylHqmiz",
        "outputId": "8544483f-8b36-4808-f283-0a4e64ce396f"
      },
      "execution_count": null,
      "outputs": [
        {
          "output_type": "stream",
          "name": "stdout",
          "text": [
            "List after change: [1, 2, 10]\n",
            "Number after change: 15\n"
          ]
        }
      ]
    },
    {
      "cell_type": "markdown",
      "source": [
        "### 7. Write a program that performs basic arithmetic operations on two user-input numbers."
      ],
      "metadata": {
        "id": "DZPrmJXRqqrP"
      }
    },
    {
      "cell_type": "code",
      "source": [
        "a = float(input(\"Enter first number: \"))\n",
        "b = float(input(\"Enter second number: \"))\n",
        "\n",
        "print(\"Sum =\", a + b)\n",
        "print(\"Difference =\", a - b)\n",
        "print(\"Product =\", a * b)\n",
        "print(\"Division =\", a / b)\n"
      ],
      "metadata": {
        "colab": {
          "base_uri": "https://localhost:8080/"
        },
        "id": "GLN-K6YZqdsh",
        "outputId": "6489a7cc-9d75-42a1-8533-ae5d2fc5032d"
      },
      "execution_count": null,
      "outputs": [
        {
          "output_type": "stream",
          "name": "stdout",
          "text": [
            "Enter first number: 10\n",
            "Enter second number: 11\n",
            "Sum = 21.0\n",
            "Difference = -1.0\n",
            "Product = 110.0\n",
            "Division = 0.9090909090909091\n"
          ]
        }
      ]
    },
    {
      "cell_type": "markdown",
      "source": [
        "### 8.  Write a program to demonstrate the use of logical operators."
      ],
      "metadata": {
        "id": "um2juBIDqruK"
      }
    },
    {
      "cell_type": "code",
      "source": [
        "x = int(input(\"Enter a number: \"))\n",
        "\n",
        "if x > 0 and x < 10:\n",
        "    print(\"x is between 1 and 9\")\n",
        "else:\n",
        "    print(\"x is not in range 1-9\")\n"
      ],
      "metadata": {
        "id": "7404s4s3qdqV"
      },
      "execution_count": null,
      "outputs": []
    },
    {
      "cell_type": "markdown",
      "source": [
        "### 9.  Write a Python program to convert user input from string to integer, float, and boolean types."
      ],
      "metadata": {
        "id": "kiXlogYOqscd"
      }
    },
    {
      "cell_type": "code",
      "source": [
        "value = input(\"Enter a number: \")\n",
        "\n",
        "print(\"As integer:\", int(value))\n",
        "print(\"As float:\", float(value))\n",
        "print(\"As boolean:\", bool(value))\n"
      ],
      "metadata": {
        "colab": {
          "base_uri": "https://localhost:8080/"
        },
        "id": "c0H3QjbEqdnn",
        "outputId": "3b94fcff-e932-4da4-a57f-9a527d11926c"
      },
      "execution_count": null,
      "outputs": [
        {
          "output_type": "stream",
          "name": "stdout",
          "text": [
            "Enter a number: 19\n",
            "As integer: 19\n",
            "As float: 19.0\n",
            "As boolean: True\n"
          ]
        }
      ]
    },
    {
      "cell_type": "markdown",
      "source": [
        "### 10.  Write code to demonstrate type casting with list elements."
      ],
      "metadata": {
        "id": "-kJ1uZ4yqs7U"
      }
    },
    {
      "cell_type": "code",
      "source": [
        "# List of strings\n",
        "str_list = [\"1\", \"2\", \"3\"]\n",
        "\n",
        "# Convert to integers\n",
        "int_list = []\n",
        "for item in str_list:\n",
        "    int_list.append(int(item))\n",
        "\n",
        "print(\"Integer list:\", int_list)\n"
      ],
      "metadata": {
        "colab": {
          "base_uri": "https://localhost:8080/"
        },
        "id": "toLSJOcMqdkA",
        "outputId": "85b8d2f8-3220-4122-89b3-15d905d55366"
      },
      "execution_count": null,
      "outputs": [
        {
          "output_type": "stream",
          "name": "stdout",
          "text": [
            "Integer list: [1, 2, 3]\n"
          ]
        }
      ]
    },
    {
      "cell_type": "markdown",
      "source": [
        "### 11. Write a program that checks if a number is positive, negative, or zero."
      ],
      "metadata": {
        "id": "eZmEJcPoqtXd"
      }
    },
    {
      "cell_type": "code",
      "source": [
        "num = float(input(\"Enter a number: \"))\n",
        "\n",
        "if num > 0:\n",
        "    print(\"Positive number\")\n",
        "elif num < 0:\n",
        "    print(\"Negative number\")\n",
        "else:\n",
        "    print(\"Zero\")\n"
      ],
      "metadata": {
        "colab": {
          "base_uri": "https://localhost:8080/"
        },
        "id": "xBuZAbvfqdfG",
        "outputId": "83d3ebe8-a6dc-4a89-aeb0-bf6b9b6d4ac1"
      },
      "execution_count": null,
      "outputs": [
        {
          "output_type": "stream",
          "name": "stdout",
          "text": [
            "Enter a number: 012005\n",
            "Positive number\n"
          ]
        }
      ]
    },
    {
      "cell_type": "markdown",
      "source": [
        "### 12. Write a for loop to print numbers from 1 to 10."
      ],
      "metadata": {
        "id": "Z1dSAQgwqtzn"
      }
    },
    {
      "cell_type": "code",
      "source": [
        "for i in range(1, 11):\n",
        "    print(i)\n"
      ],
      "metadata": {
        "colab": {
          "base_uri": "https://localhost:8080/"
        },
        "id": "6TpaPo_0qdYH",
        "outputId": "ebf5c3d0-e912-49d6-9dbf-e80f9c809b19"
      },
      "execution_count": null,
      "outputs": [
        {
          "output_type": "stream",
          "name": "stdout",
          "text": [
            "1\n",
            "2\n",
            "3\n",
            "4\n",
            "5\n",
            "6\n",
            "7\n",
            "8\n",
            "9\n",
            "10\n"
          ]
        }
      ]
    },
    {
      "cell_type": "markdown",
      "source": [
        "### 13. Write a Python program to find the sum of all even numbers between 1 and 50."
      ],
      "metadata": {
        "id": "cN06BQQSquYk"
      }
    },
    {
      "cell_type": "code",
      "source": [
        "total = 0\n",
        "for i in range(2, 51, 2):\n",
        "    total += i\n",
        "\n",
        "print(\"Sum of even numbers from 1 to 50 is\", total)\n",
        "\n"
      ],
      "metadata": {
        "colab": {
          "base_uri": "https://localhost:8080/"
        },
        "id": "CWGpdRSKqdOX",
        "outputId": "79f0ff6c-4a10-44de-89bc-60f08162d913"
      },
      "execution_count": null,
      "outputs": [
        {
          "output_type": "stream",
          "name": "stdout",
          "text": [
            "Sum of even numbers from 1 to 50 is 650\n"
          ]
        }
      ]
    },
    {
      "cell_type": "markdown",
      "source": [
        "### 14. Write a program to reverse a string using a while loop."
      ],
      "metadata": {
        "id": "tylwVPXuqu9A"
      }
    },
    {
      "cell_type": "code",
      "source": [
        "text = input(\"Enter a string: \")\n",
        "reversed_text = \"\"\n",
        "i = len(text) - 1\n",
        "\n",
        "while i >= 0:\n",
        "    reversed_text += text[i]\n",
        "    i -= 1\n",
        "\n",
        "print(\"Reversed string is:\", reversed_text)\n"
      ],
      "metadata": {
        "colab": {
          "base_uri": "https://localhost:8080/"
        },
        "id": "izUrpukfqdED",
        "outputId": "ebbc1267-1ad9-4d0e-d703-06c92fc67ede"
      },
      "execution_count": null,
      "outputs": [
        {
          "output_type": "stream",
          "name": "stdout",
          "text": [
            "Enter a string: shantanu jadhav\n",
            "Reversed string is: vahdaj unatnahs\n"
          ]
        }
      ]
    },
    {
      "cell_type": "markdown",
      "source": [
        "### 15.  Write a Python program to calculate the factorial of a number provided by the user using a while loop."
      ],
      "metadata": {
        "id": "fj8bPb51qvbW"
      }
    },
    {
      "cell_type": "code",
      "source": [
        "num = int(input(\"Enter a number: \"))\n",
        "factorial = 1\n",
        "i = 1\n",
        "\n",
        "while i <= num:\n",
        "    factorial *= i\n",
        "    i += 1\n",
        "\n",
        "print(\"Factorial is\", factorial)\n"
      ],
      "metadata": {
        "colab": {
          "base_uri": "https://localhost:8080/"
        },
        "id": "Wd7cVIZVqcdV",
        "outputId": "cabf8f8c-35ef-4c27-fec9-920190e63817"
      },
      "execution_count": null,
      "outputs": [
        {
          "output_type": "stream",
          "name": "stdout",
          "text": [
            "Enter a number: 19\n",
            "Factorial is 121645100408832000\n"
          ]
        }
      ]
    },
    {
      "cell_type": "code",
      "source": [],
      "metadata": {
        "id": "yVa3r0Duwnpq"
      },
      "execution_count": null,
      "outputs": []
    }
  ]
}